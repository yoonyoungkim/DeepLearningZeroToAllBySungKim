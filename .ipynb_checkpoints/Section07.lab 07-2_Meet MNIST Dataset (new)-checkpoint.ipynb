{
 "cells": [
  {
   "cell_type": "markdown",
   "metadata": {
    "collapsed": false
   },
   "source": [
    "# MNIST Dataset"
   ]
  },
  {
   "cell_type": "code",
   "execution_count": 7,
   "metadata": {
    "collapsed": false
   },
   "outputs": [
    {
     "name": "stdout",
     "output_type": "stream",
     "text": [
      "Extracting MNIST_data/train-images-idx3-ubyte.gz\n",
      "Extracting MNIST_data/train-labels-idx1-ubyte.gz\n",
      "Extracting MNIST_data/t10k-images-idx3-ubyte.gz\n",
      "Extracting MNIST_data/t10k-labels-idx1-ubyte.gz\n",
      "Epoch:  1 cost:  2.69584070672\n",
      "Epoch:  2 cost:  1.12374422881\n",
      "Epoch:  3 cost:  0.896281251853\n",
      "Epoch:  4 cost:  0.782785007195\n",
      "Epoch:  5 cost:  0.711876014281\n",
      "Epoch:  6 cost:  0.660458244546\n",
      "Epoch:  7 cost:  0.621590229273\n",
      "Epoch:  8 cost:  0.591245959103\n",
      "Epoch:  9 cost:  0.566169703792\n",
      "Epoch:  10 cost:  0.545298927724\n",
      "Epoch:  11 cost:  0.527415415265\n",
      "Epoch:  12 cost:  0.511345565021\n",
      "Epoch:  13 cost:  0.497723407122\n",
      "Epoch:  14 cost:  0.485431447652\n",
      "Epoch:  15 cost:  0.474074181372\n",
      "Accuracy:  0.8894\n"
     ]
    }
   ],
   "source": [
    "import tensorflow as tf\n",
    "\n",
    "# MNIST Dataset 가져오기\n",
    "from tensorflow.examples.tutorials.mnist import input_data\n",
    "mnist = input_data.read_data_sets(\"MNIST_data/\", one_hot=True)\n",
    "\n",
    "# shape = 28 * 28\n",
    "nb_classes = 10\n",
    "X = tf.placeholder(tf.float32, [None, 784])\n",
    "Y = tf.placeholder(tf.float32, [None, nb_classes])\n",
    "W = tf.Variable(tf.random_normal([784, nb_classes]), name='weight')\n",
    "b = tf.Variable(tf.random_normal([nb_classes]), name='bias')\n",
    "\n",
    "# hypothesis - sosftmax\n",
    "hypothesis = tf.nn.softmax(tf.matmul(X, W) + b)\n",
    "# cost - ghkrdls\n",
    "cost = tf.reduce_mean(-tf.reduce_sum(Y*tf.log(hypothesis), axis=1))\n",
    "# minimize\n",
    "optimizer = tf.train.GradientDescentOptimizer(learning_rate=0.1)\n",
    "train = optimizer.minimize(cost)\n",
    "\n",
    "# measure\n",
    "is_correct = tf.equal(tf.argmax(hypothesis, 1), tf.argmax(Y, 1)) # 에측값이 참이면 True, 아니면 False\n",
    "accuracy = tf.reduce_mean(tf.cast(is_correct, tf.float32))\n",
    "\n",
    "# batch로 작업\n",
    "training_epochs = 15 # 전체 데이터 셋을 모두 한번씩 학습시키는 것을 1epoch이라고 한다\n",
    "batch_size = 100 # 한번에 읽어등일 사이즈\n",
    "\n",
    "with tf.Session() as sess:\n",
    "    sess.run(tf.global_variables_initializer())\n",
    "    for epoch in range(training_epochs):\n",
    "        avg_cost= 0\n",
    "        total_batch = int(mnist.train.num_examples / batch_size)\n",
    "        for i in range(total_batch):\n",
    "            batch_xs, batch_ys = mnist.train.next_batch(batch_size)\n",
    "            c, _ = sess.run([cost, train], feed_dict={X: batch_xs, Y: batch_ys})\n",
    "            avg_cost += c/total_batch\n",
    "        print('Epoch: ', epoch+1, 'cost: ', avg_cost)\n",
    "    print(\"Accuracy: \", accuracy.eval(session=sess, feed_dict={X: mnist.test.images, Y: mnist.test.labels}))"
   ]
  },
  {
   "cell_type": "code",
   "execution_count": null,
   "metadata": {
    "collapsed": true
   },
   "outputs": [],
   "source": []
  },
  {
   "cell_type": "code",
   "execution_count": null,
   "metadata": {
    "collapsed": true
   },
   "outputs": [],
   "source": []
  },
  {
   "cell_type": "code",
   "execution_count": null,
   "metadata": {
    "collapsed": true
   },
   "outputs": [],
   "source": []
  }
 ],
 "metadata": {
  "kernelspec": {
   "display_name": "Python 3",
   "language": "python",
   "name": "python3"
  },
  "language_info": {
   "codemirror_mode": {
    "name": "ipython",
    "version": 3
   },
   "file_extension": ".py",
   "mimetype": "text/x-python",
   "name": "python",
   "nbconvert_exporter": "python",
   "pygments_lexer": "ipython3",
   "version": "3.6.0"
  }
 },
 "nbformat": 4,
 "nbformat_minor": 2
}
