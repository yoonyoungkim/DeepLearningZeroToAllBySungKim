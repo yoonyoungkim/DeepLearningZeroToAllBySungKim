{
 "cells": [
  {
   "cell_type": "code",
   "execution_count": 8,
   "metadata": {},
   "outputs": [
    {
     "name": "stdout",
     "output_type": "stream",
     "text": [
      "['i', 'u', 'n', 'y', 't', ' ', 'f', 'o', 'w', 'a']\n",
      "{'i': 0, 'u': 1, 'n': 2, 'y': 3, 't': 4, ' ': 5, 'f': 6, 'o': 7, 'w': 8, 'a': 9}\n"
     ]
    }
   ],
   "source": [
    "import tensorflow as tf\n",
    "import numpy as np\n",
    "\n",
    "# data create\n",
    "sample = \" if you want you\"\n",
    "idx2char = list(set(sample)) # index -> char\n",
    "char2idx = {c: i for i, c in enumerate(idx2char)} # char -> index\n",
    "print(idx2char)\n",
    "print(char2idx)\n",
    "\n",
    "sample_idx = [char2idx[c] for c in sample]\n",
    "print(sample_idx)"
   ]
  },
  {
   "cell_type": "code",
   "execution_count": null,
   "metadata": {
    "collapsed": true
   },
   "outputs": [],
   "source": []
  },
  {
   "cell_type": "code",
   "execution_count": null,
   "metadata": {
    "collapsed": true
   },
   "outputs": [],
   "source": []
  }
 ],
 "metadata": {
  "kernelspec": {
   "display_name": "Python 3",
   "language": "python",
   "name": "python3"
  },
  "language_info": {
   "codemirror_mode": {
    "name": "ipython",
    "version": 3
   },
   "file_extension": ".py",
   "mimetype": "text/x-python",
   "name": "python",
   "nbconvert_exporter": "python",
   "pygments_lexer": "ipython3",
   "version": "3.6.1"
  }
 },
 "nbformat": 4,
 "nbformat_minor": 2
}
